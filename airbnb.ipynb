{
  "cells": [
    {
      "cell_type": "markdown",
      "metadata": {
        "id": "XiWDtMHPChVG"
      },
      "source": [
        "Projet AirBnB\n",
        "==============================\n",
        "Membres du groupe :\n",
        "- Célia BEDEL (TD M)\n",
        "- Maé BENAROCHE (TD D)"
      ]
    },
    {
      "cell_type": "code",
      "execution_count": 1,
      "metadata": {
        "id": "LlTCvG2IvnoY"
      },
      "outputs": [],
      "source": [
        "import pandas as pd\n",
        "import numpy as np\n",
        "from datetime import datetime"
      ]
    },
    {
      "cell_type": "code",
      "execution_count": 2,
      "metadata": {
        "id": "2R9KowVvwQEW"
      },
      "outputs": [],
      "source": [
        "# Charger les données\n",
        "train_data = pd.read_csv(\"data/airbnb_train.csv\")\n",
        "airbnb= pd.read_csv(\"data/airbnb_train.csv\")\n",
        "test_data = pd.read_csv(\"data/airbnb_test.csv\")"
      ]
    },
    {
      "cell_type": "markdown",
      "metadata": {
        "id": "diLcphXBYI-N"
      },
      "source": [
        "# 0. Introduction"
      ]
    },
    {
      "cell_type": "code",
      "execution_count": null,
      "metadata": {
        "colab": {
          "base_uri": "https://localhost:8080/",
          "height": 0
        },
        "id": "GTsnKy-swXd9",
        "outputId": "f1c321ef-29c9-4141-f39e-6805ff48726d"
      },
      "outputs": [],
      "source": [
        "train_data.head()"
      ]
    },
    {
      "cell_type": "code",
      "execution_count": null,
      "metadata": {
        "colab": {
          "base_uri": "https://localhost:8080/"
        },
        "id": "UWtCbggAwgpF",
        "outputId": "a0c3eba1-4465-4441-9da3-54cc7bc879d2"
      },
      "outputs": [],
      "source": [
        "#Visualisons les données\n",
        "train_data.info()\n",
        "#train_data.describe()"
      ]
    },
    {
      "cell_type": "code",
      "execution_count": null,
      "metadata": {
        "colab": {
          "base_uri": "https://localhost:8080/"
        },
        "id": "v-c9RpZx4hj8",
        "outputId": "94a5d951-dade-49bd-adde-5c2d690a7ede"
      },
      "outputs": [],
      "source": [
        "airbnb.isnull().sum()"
      ]
    },
    {
      "cell_type": "markdown",
      "metadata": {
        "id": "6jeTmnbsOA_v"
      },
      "source": [
        "Cela nous donne une première idée sur notre jeu de données : 28 colonnes et  22 234 entrées. Avant toute chose, on peut déjà éliminer plusieurs colonnes qui n'ont, à priori, pas d'impact sur le prix : id, zipcode, name (unique à chaque logement).\n",
        "Pour pouvoir utiliser toutes les données restantes, il faut les convertir en données numériques. Ainsi, on pourra plus facilement afficher des graphes et effectuer des moyennes, des matrices de corrélations, etc. C'est l'objectif des classes Custom Transformation et Feature Selection."
      ]
    },
    {
      "cell_type": "markdown",
      "metadata": {
        "id": "y9O6-iKLFnEl"
      },
      "source": [
        "# 1. Exploration des données"
      ]
    },
    {
      "cell_type": "markdown",
      "metadata": {
        "id": "mAWHg1fHGLsp"
      },
      "source": [
        "## CustomTransformation"
      ]
    },
    {
      "cell_type": "code",
      "execution_count": 6,
      "metadata": {
        "id": "dCSh11Glv1iV"
      },
      "outputs": [],
      "source": [
        "class CustomTransformation():\n",
        "\n",
        "    def __init__(self):\n",
        "        \"\"\"\n",
        "        Classe pour convertir les colonnes en valeurs qui vont pouvoir être converties en valeurs numériques\n",
        "        \"\"\"\n",
        "\n",
        "        self.fitted = False # Indique si fit_transform a été utilisé, pour éviter d’utiliser transform sans que fit ai été appelé\n",
        "        self.property2index = dict() # Dictionnaire qui va convertir le nom en indice\n",
        "        self.max_index = 0 # Indique le dernier indice de la propriété.\n",
        "\n",
        "    def fit_transform(self, dataset):\n",
        "\n",
        "        self.fitted = True\n",
        "        # transform\n",
        "        return self.transform(dataset)\n",
        "\n",
        "    def transform(self, dataset):\n",
        "\n",
        "        # Tranforme les types de propriétés en indice\n",
        "        dataset = self.transform_property(dataset, \"property_type\")\n",
        "        dataset = self.transform_property(dataset, \"room_type\")\n",
        "        dataset = self.transform_property(dataset, \"bed_type\")\n",
        "        dataset = self.transform_property(dataset, \"cancellation_policy\")\n",
        "\n",
        "        # Transforme les colonnes qui prennent que deux valeurs : \"host_has_profile_pic\", \"host_identity_verifie\", \"instant_bookable\"\n",
        "        dataset = self.transform_bool(dataset)\n",
        "        dataset=self.transform_host_response_rate(dataset)\n",
        "\n",
        "        #transforme les colonnes qui ont pour valeurs des dates\n",
        "        dataset=self.transform_date(dataset)\n",
        "\n",
        "        dataset = self.transform_amenities(dataset)\n",
        "\n",
        "        dataset = self.transform_amen(dataset)\n",
        "\n",
        "        # remplace les valeurs null\n",
        "        dataset['accommodates'].fillna(0, inplace=True)\n",
        "        dataset['bathrooms'].fillna(0, inplace=True)\n",
        "        dataset['latitude'].fillna(0, inplace=True)\n",
        "        dataset['longitude'].fillna(0, inplace=True)\n",
        "        dataset['number_of_reviews'].fillna(0, inplace=True)\n",
        "        dataset['review_scores_rating'].fillna(0, inplace=True)\n",
        "        dataset['bedrooms'].fillna(0, inplace=True)\n",
        "        dataset['beds'].fillna(0, inplace=True)\n",
        "        dataset['host_response_rate'].fillna(0, inplace=True)\n",
        "\n",
        "        dataset.fillna(0, inplace=True)\n",
        "\n",
        "        return dataset\n",
        "\n",
        "    #Class pour convertir les colonnes du type : 'type de quelque chose' en des indices numériques\n",
        "    def transform_property(self, dataset, property_name):\n",
        "        # Récupère les types de propriété (maison, appart etc...)\n",
        "        properties = dataset[property_name].unique()\n",
        "        print(\"Tous les types de \", property_name, properties)\n",
        "\n",
        "        self.property2index = {prop: i for (i, prop) in enumerate(properties)}\n",
        "        self.max_index = max(list(self.property2index.values()))\n",
        "\n",
        "        # Transform les propriétés en indice\n",
        "        dataset.loc[:, property_name] = dataset[property_name].replace(self.property2index)\n",
        "\n",
        "        # Ligne un peu moche qui fait en sorte de remplacer les lignes qui ont des nom de logement qui n’était pas dans l’entrainement\n",
        "        dataset.loc[dataset[property_name].map(type).eq(str), property_name] = np.nan\n",
        "\n",
        "        # remplace les valeurs null\n",
        "        dataset[dataset[property_name].isna()] = self.max_index + 1\n",
        "\n",
        "        return dataset\n",
        "\n",
        "    #Transforme les colonnes qui ne prennent que deux entrées : true/false, t/f\n",
        "    def transform_bool(self,dataset):\n",
        "        #Si la valeur est t, la valeur devient 1, sinon (y compris valeur nulle) la valeur devient 0\n",
        "        dataset.loc[:, \"cleaning_fee\"] = dataset[\"cleaning_fee\"].map(lambda x: 1 if x == 't' else 0)\n",
        "        dataset.loc[:, \"host_has_profile_pic\"] = dataset[\"host_has_profile_pic\"].map(lambda x: 1 if x == 't' else 0)\n",
        "        dataset.loc[:, \"host_identity_verified\"] = dataset[\"host_identity_verified\"].map(lambda x: 1 if x == 't' else 0)\n",
        "        dataset.loc[:, \"instant_bookable\"] = dataset[\"instant_bookable\"].map(lambda x: 1 if x == 't' else 0)\n",
        "        return dataset\n",
        "\n",
        "    #Transforme la colonne host_response_rate\n",
        "    def transform_host_response_rate(self, dataset):\n",
        "      #Enlève le symbole '%' et converti en float\n",
        "      dataset.loc[:, 'host_response_rate'] = dataset['host_response_rate'].str.rstrip('%').astype(float)\n",
        "      # Diviser par 100 pour obtenir la valeur sous forme de pourcentage\n",
        "      dataset['host_response_rate'] = dataset['host_response_rate'] / 100\n",
        "\n",
        "      return dataset\n",
        "\n",
        "    #Converti les colonnes avec des dates en nombre de jours par rapport à la date d'aujourd'hui\n",
        "    def transform_date(self, dataset):\n",
        "\n",
        "      # Convertir la colonne 'host_since' en objets de date\n",
        "      dataset['host_since'] = pd.to_datetime(dataset['host_since'])\n",
        "      # Calculer la différence en jours entre chaque date dans la colonne 'host_since' et aujourd'hui\n",
        "      dataset['host_since'] = (datetime.now() - dataset['host_since']).dt.days\n",
        "\n",
        "      dataset['first_review'] = pd.to_datetime(dataset['first_review'])\n",
        "      dataset['first_review'] = (datetime.now() - dataset['first_review']).dt.days\n",
        "\n",
        "      dataset['last_review'] = pd.to_datetime(dataset['last_review'])\n",
        "      dataset['last_review'] = (datetime.now() - dataset['last_review']).dt.days\n",
        "\n",
        "      return dataset\n",
        "\n",
        "    def transform_amenities(self, dataset):\n",
        "        amenities_dictonary = {}\n",
        "        for i in range(len(dataset)):\n",
        "            amenities = dataset[\"amenities\"][i]\n",
        "            amenities = (amenities.replace(\"{\", \"\").replace(\"}\", \"\").replace('\"', \"\").split(\",\"))\n",
        "            for amenity in amenities:\n",
        "                if amenity not in amenities_dictonary:\n",
        "                    amenities_dictonary[amenity] = len(amenities_dictonary)\n",
        "\n",
        "        print(\"Tous les types d'amenities :\" ,amenities_dictonary)\n",
        "\n",
        "        return dataset\n",
        "\n",
        "\n",
        "    #on regroupe dans des catégories les amenities (bathroom, kitchen, essentials, etc.)\n",
        "    def transform_amen(self, dataset):\n",
        "        categories = {\n",
        "        'bathroom': ['Shampoo', 'Hair dryer','Washer','Dryer','Iron','Hot water'],\n",
        "        'bedroom': ['Extra pillows and blankets', 'Bed linens'],\n",
        "        'kitchen': ['Kitchen', 'Refrigerator', 'Stove', 'Oven', 'Microwave', 'Dishwasher', 'Dishes and silverware', 'Cooking basics', 'Coffee maker'],\n",
        "        'heating': ['Heating', 'Air conditioning'],\n",
        "        'outdoor': ['Patio or balcony', 'Garden or backyard', 'BBQ grill', 'Outdoor furniture'],\n",
        "        'tv/wifi': ['TV', 'Cable TV', 'Wireless Internet'],\n",
        "        'smoking': ['Smoking allowed', 'Smoke detector', 'Carbon monoxide detector','Fire extinguisher'],\n",
        "        'security':['Lock on bedroom door','Private entrance','24-hour check-in'],\n",
        "        'pets':['Pets allowed','Pets live on this property','Dog(s)'],\n",
        "        # a rajouter ou non 'parking':['Free parking on premises'],\n",
        "        'essentials': ['Essentials', 'Bed linens', 'Extra pillows and blankets', 'Hangers', 'Hair dryer', 'Iron', 'Shampoo']\n",
        "        }\n",
        "\n",
        "        # Initialiser les colonnes pour chaque catégorie\n",
        "        for category in categories:\n",
        "            dataset[category] = 0\n",
        "\n",
        "        def count_amenities_by_category(amenities, categories):\n",
        "            if not isinstance(amenities, str):\n",
        "                return {category: 0 for category in categories.keys()}\n",
        "\n",
        "            amenity_list = amenities.strip('{}').split(',')\n",
        "            amenity_list = [amenity.strip().strip('\"') for amenity in amenity_list]\n",
        "            category_counts = {category: 0 for category in categories.keys()}\n",
        "\n",
        "            for amenity in amenity_list:\n",
        "                for category, keywords in categories.items():\n",
        "                    if any(keyword in amenity for keyword in keywords):\n",
        "                        category_counts[category] += 1  # <-- Modification ici pour compter le nombre d'amenities par catégorie\n",
        "\n",
        "            return category_counts\n",
        "\n",
        "        # Appliquer la fonction à chaque ligne et mettre à jour les colonnes du dataset\n",
        "        for index, row in dataset.iterrows():\n",
        "            category_counts = count_amenities_by_category(row['amenities'], categories)\n",
        "            for category, count in category_counts.items():\n",
        "                dataset.at[index, category] = count\n",
        "\n",
        "        return dataset\n",
        "\n",
        "\n"
      ]
    },
    {
      "cell_type": "code",
      "execution_count": null,
      "metadata": {
        "colab": {
          "base_uri": "https://localhost:8080/",
          "height": 585
        },
        "id": "TmQirlppRwL-",
        "outputId": "54d41b27-271a-459c-e4b5-4db0d727b63e"
      },
      "outputs": [],
      "source": [
        "features_transformer = CustomTransformation()\n",
        "\n",
        "airbnb_train_transformed = features_transformer.fit_transform(airbnb)\n",
        "airbnb_train_transformed.head()"
      ]
    },
    {
      "cell_type": "code",
      "execution_count": null,
      "metadata": {
        "colab": {
          "base_uri": "https://localhost:8080/"
        },
        "id": "NCQE6F8qdVtP",
        "outputId": "a11a0dee-5bd1-478b-bbb0-13e4a298ecd7"
      },
      "outputs": [],
      "source": [
        "airbnb_train_transformed.info()"
      ]
    },
    {
      "cell_type": "markdown",
      "metadata": {
        "id": "0nBE9uv2GcO_"
      },
      "source": [
        "## FeatureSelection"
      ]
    },
    {
      "cell_type": "code",
      "execution_count": 9,
      "metadata": {
        "id": "2wsWEge-Gj85"
      },
      "outputs": [],
      "source": [
        "class FeatureSelection():\n",
        "\n",
        "    def __init__(self, columns):\n",
        "        \"\"\"\n",
        "        Class simple pour juste garder les colonnes qui nous intéresse\n",
        "        N'a pas forcément l'air nécessaire, mais c'est pour être sur que j'applique bien le même process au train et au test\n",
        "        \"\"\"\n",
        "\n",
        "        self.columns = columns\n",
        "\n",
        "    def fit_transform(self, dataset, y=None):\n",
        "        return self.transform(dataset)\n",
        "\n",
        "    def transform(self, dataset):\n",
        "        if not self.columns:\n",
        "            raise ValueError(\"Aucune colonne spécifiée pour la sélection de caractéristiques.\")\n",
        "\n",
        "        new_dataset = dataset[self.columns].copy()\n",
        "\n",
        "        for col in new_dataset.columns:\n",
        "            new_dataset[col] = pd.to_numeric(new_dataset[col]) # Converti tout en nombre\n",
        "        return new_dataset\n"
      ]
    },
    {
      "cell_type": "code",
      "execution_count": null,
      "metadata": {
        "colab": {
          "base_uri": "https://localhost:8080/",
          "height": 0
        },
        "id": "AysDs6omollz",
        "outputId": "056c5fc5-8514-450a-bce2-9f8852be616c"
      },
      "outputs": [],
      "source": [
        "columns1 = [\"property_type\",\"room_type\", \"bathrooms\", \"bed_type\", \"cancellation_policy\", \"cleaning_fee\",\"first_review\",\"host_has_profile_pic\",\n",
        "           \"host_identity_verified\",\"host_response_rate\",\"host_since\",\"instant_bookable\", \"last_review\", \"latitude\",\"longitude\",\"number_of_reviews\",\"review_scores_rating\",\n",
        "            \"bedrooms\",\"beds\", \"bathroom\",\"bedroom\",\"kitchen\",\"heating\",\"outdoor\",\"tv/wifi\",\"smoking\",\"security\",\"pets\",\"essentials\",\"log_price\"]\n",
        "\n",
        "\n",
        "\n",
        "\n",
        "\n",
        "feature_selector = FeatureSelection(columns1)\n",
        "\n",
        "airbnb_train = feature_selector.transform(airbnb_train_transformed)\n",
        "airbnb_train.head()"
      ]
    },
    {
      "cell_type": "markdown",
      "metadata": {
        "id": "4hSIIfThPGnm"
      },
      "source": [
        "Maintenant que notre jeu de données est sous forme de valeurs numériques, on va pouvoir étudier les données. C'est à dire regarder quelles variables (colonnes) sont utiles pour la prédiction du prix ( et donc du log du prix)."
      ]
    },
    {
      "cell_type": "markdown",
      "metadata": {
        "id": "GHelOjBmot9z"
      },
      "source": [
        "## Affichage des données sous forme de graphiques, matrice de corrélation, etc."
      ]
    },
    {
      "cell_type": "markdown",
      "metadata": {
        "id": "u65ovY_rsfiu"
      },
      "source": [
        "### Matrice de corrélation"
      ]
    },
    {
      "cell_type": "code",
      "execution_count": null,
      "metadata": {
        "colab": {
          "base_uri": "https://localhost:8080/",
          "height": 0
        },
        "id": "9fpida3gUydM",
        "outputId": "73cfbc94-4a21-4774-f082-e09b67de4cb2"
      },
      "outputs": [],
      "source": [
        "import pandas as pd\n",
        "import seaborn as sns\n",
        "import matplotlib.pyplot as plt\n",
        "\n",
        "airbnb_train_matrix = airbnb_train.copy()\n",
        "airbnb_train_matrix[\"log_price\"] = train_data[\"log_price\"]\n",
        "airbnb_train_matrix['price'] = np.exp(airbnb_train_matrix['log_price'])\n",
        "\n",
        "# Calculer la matrice de corrélation\n",
        "correlation_matrix = airbnb_train_matrix.corr()\n",
        "\n",
        "# Afficher la matrice de corrélation\n",
        "plt.figure(figsize=(10, 8))\n",
        "sns.heatmap(correlation_matrix, annot=True, cmap=\"coolwarm\", fmt=\".2f\")\n",
        "plt.title(\"Matrice de corrélation\")\n",
        "plt.show()"
      ]
    },
    {
      "cell_type": "code",
      "execution_count": null,
      "metadata": {
        "colab": {
          "base_uri": "https://localhost:8080/",
          "height": 0
        },
        "id": "TugR1mVwPo0j",
        "outputId": "4367e477-fca9-42d3-94ca-a9a6d8caf47a"
      },
      "outputs": [],
      "source": [
        "#pour afficher seulement la correlation avec log_price\n",
        "airbnb_train_matrix = airbnb_train.copy()\n",
        "airbnb_train_matrix[\"log_price\"] = train_data[\"log_price\"]\n",
        "\n",
        "# Calculer la matrice de corrélation\n",
        "correlation_with_log_price = airbnb_train_matrix.corr()[\"log_price\"].drop(\"log_price\")\n",
        "correlation_matrix = pd.DataFrame(correlation_with_log_price)\n",
        "\n",
        "\n",
        "# Afficher la matrice de corrélation\n",
        "plt.figure(figsize=(10, 8))\n",
        "sns.heatmap(correlation_matrix, annot=True, cmap=\"coolwarm\", fmt=\".2f\")\n",
        "plt.title(\"Matrice de corrélation\")\n",
        "plt.show()"
      ]
    },
    {
      "cell_type": "markdown",
      "metadata": {
        "id": "Waqwhf5EChVN"
      },
      "source": [
        "On remarque sur la matrice de corrélation que les variables les plus corrélées avec le prix sont : bedrooms, beds, room_type, bathrooms et tv/wifi.\n",
        "On peut donc en conclure que les clients sont prêts à payer plus cher pour un logement avec plus de chambres, de lits, de salles de bain, une meilleure qualité de wifi et de tv."
      ]
    },
    {
      "cell_type": "markdown",
      "metadata": {
        "id": "uKin1IT7shHP"
      },
      "source": [
        "### Carte"
      ]
    },
    {
      "cell_type": "code",
      "execution_count": null,
      "metadata": {
        "colab": {
          "base_uri": "https://localhost:8080/",
          "height": 0
        },
        "id": "088GXGpbWgGF",
        "outputId": "0bdafa10-68f4-4b93-f47a-5d8e5726bcce"
      },
      "outputs": [],
      "source": [
        "import pandas as pd\n",
        "import numpy as np\n",
        "import geopandas as gpd\n",
        "import matplotlib.pyplot as plt\n",
        "\n",
        "# Calculer le prix à partir du log_price\n",
        "airbnb_train['price'] = np.exp(airbnb_train['log_price'])\n",
        "\n",
        "# Créer un GeoDataFrame à partir des données\n",
        "gdf = gpd.GeoDataFrame(airbnb_train, geometry=gpd.points_from_xy(airbnb_train.longitude, airbnb_train.latitude))\n",
        "\n",
        "# Charger un fond de carte du monde\n",
        "world = gpd.read_file(gpd.datasets.get_path('naturalearth_lowres'))\n",
        "\n",
        "# Tracer la carte\n",
        "fig, ax = plt.subplots(figsize=(15, 10))\n",
        "world.plot(ax=ax, color='lightgray')\n",
        "\n",
        "# Ajouter les points\n",
        "gdf.plot(ax=ax, marker='o', c=gdf['log_price'], cmap='Reds', markersize=10, alpha=0.6)\n",
        "\n",
        "# Ajouter une barre de couleur\n",
        "sm = plt.cm.ScalarMappable(cmap='Reds', norm=plt.Normalize(vmin=gdf['log_price'].min(), vmax=gdf['log_price'].max()))\n",
        "sm._A = []\n",
        "cbar = plt.colorbar(sm, ax=ax)\n",
        "cbar.set_label(r'$\\log_{10}({\\rm price})$')\n",
        "\n",
        "# Afficher la carte\n",
        "plt.title('Carte des prix en fonction de la latitude et de la longitude')\n",
        "plt.show()"
      ]
    },
    {
      "cell_type": "markdown",
      "metadata": {
        "id": "DhB1dxXMXKK4"
      },
      "source": [
        "On remarque sur la carte que les airbnb sont très concentrés au même pays (états unis) donc qu'il n'y a pas forcément un gros impact de la localisation sur le prix."
      ]
    },
    {
      "cell_type": "markdown",
      "metadata": {
        "id": "_z46-nt7puhU"
      },
      "source": [
        "### Graphiques"
      ]
    },
    {
      "cell_type": "code",
      "execution_count": 14,
      "metadata": {
        "id": "HRc3S3TCpwUc"
      },
      "outputs": [],
      "source": [
        "import seaborn as sns\n",
        "import matplotlib.pyplot as plt\n",
        "\n",
        "# Fonction qui permet de créer un graphique de la colonne spécifiée par rapport au prix\n",
        "def plot_column_vs_price(dataset, column):\n",
        "    plt.figure(figsize=(10, 6))\n",
        "    if dataset[column].dtype == 'object':\n",
        "        # Pour les colonnes catégorielles, on utilise un box plot\n",
        "        sns.boxplot(x=column, y='log_price', data=dataset)\n",
        "        plt.xticks(rotation=90)\n",
        "    else:\n",
        "        # Pour les colonnes numériques, on utilise un scatter plot\n",
        "        sns.scatterplot(x=column, y='log_price', data=dataset)\n",
        "\n",
        "    plt.title(f'Prix en fonction de {column}')\n",
        "    plt.xlabel(column)\n",
        "    plt.ylabel('logarithme du prix')\n",
        "    plt.show()"
      ]
    },
    {
      "cell_type": "code",
      "execution_count": null,
      "metadata": {
        "colab": {
          "base_uri": "https://localhost:8080/",
          "height": 0
        },
        "id": "oAovqnGRqB78",
        "outputId": "28568819-0365-4a49-bfe0-c08a912a971c"
      },
      "outputs": [],
      "source": [
        "# Visualiser tous les graphiques\n",
        "for column in airbnb_train.columns:\n",
        "    if column != 'log_price':\n",
        "        plot_column_vs_price(airbnb_train, column)"
      ]
    },
    {
      "cell_type": "markdown",
      "metadata": {
        "id": "Tz_Eo5gRChVO"
      },
      "source": [
        "On a obtenu plusieurs graphiques qui nous permettent de voir la répartition des prix en fonction de certaines variables.\n",
        "\n",
        "On peut voir que les prix sont plus élevés pour les logements entiers que pour les chambres privées ou partagées. On peut aussi voir que les prix sont plus élevés pour les logements avec plus de chambres, de lits, de salles de bain, etc.\n",
        "\n",
        "Plus le review_scores_rating est élevé, plus le prix est élevé car les clients ont tendance à beacoup se fier aux notes afin de choisir un airbnb.\n",
        "On remarque également que plus le nombre de reviews est élevé, plus le prix est élevé. Cela peut s'expliquer par le fait que les logements avec beaucoup de reviews sont plus populaires et donc plus chers.\n",
        "\n",
        "Les clients recherchent un logement qui est sûr et dont le propriétaire a l'air fiable. C'est pourquoi les prix sont plus élevés pour les logements avec des superhosts qui ont une photo de profil et des verified hosts. Ils regardent également la catégorie host_since qui est un indicateur de la fiabilité du propriétaire. La catégorie host_response_time est également un indicateur de la fiabilité du propriétaire. Les clients recherchent un propriétaire qui répond rapidement à leurs messages.\n",
        "\n",
        "On remarque également que les prix sont plus élevés pour les logements avec des équipements de qualité comme une cuisine, un lave-linge, un sèche-linge, etc. Plus le logement est équipé, plus le prix est élevé.\n",
        "\n"
      ]
    },
    {
      "cell_type": "markdown",
      "metadata": {
        "id": "LFrYETJWpLJL"
      },
      "source": [
        "## Différents jeux de données"
      ]
    },
    {
      "cell_type": "markdown",
      "metadata": {
        "id": "8D5dZ9O014RF"
      },
      "source": [
        "On va extraire différents dataset de notre dataset princpal pour après tester plusieurs modèles sur chacun d'entre eux."
      ]
    },
    {
      "cell_type": "markdown",
      "metadata": {
        "id": "6UceJQrhsxzc"
      },
      "source": [
        "### Dataset avec toutes les données"
      ]
    },
    {
      "cell_type": "code",
      "execution_count": null,
      "metadata": {
        "colab": {
          "base_uri": "https://localhost:8080/",
          "height": 255
        },
        "id": "f_SfzKpSs3OE",
        "outputId": "c421a149-91b5-4cbb-8ce5-8c6119eaf418"
      },
      "outputs": [],
      "source": [
        "columns1 = [\"property_type\",\"room_type\", \"bathrooms\", \"bed_type\", \"cancellation_policy\", \"cleaning_fee\",\"first_review\",\"host_has_profile_pic\",\n",
        "           \"host_identity_verified\",\"host_response_rate\",\"host_since\",\"instant_bookable\", \"last_review\", \"latitude\",\"longitude\",\"number_of_reviews\",\"review_scores_rating\",\n",
        "            \"bedrooms\",\"beds\", \"bathroom\",\"bedroom\",\"kitchen\",\"heating\",\"outdoor\",\"tv/wifi\",\"smoking\",\"security\",\"pets\",\"essentials\",\"log_price\"]\n",
        "\n",
        "\n",
        "\n",
        "\n",
        "\n",
        "feature_selector = FeatureSelection(columns1)\n",
        "\n",
        "airbnb_train = feature_selector.transform(airbnb_train_transformed)\n",
        "airbnb_train.head()"
      ]
    },
    {
      "cell_type": "markdown",
      "metadata": {
        "id": "hX35395MpUpT"
      },
      "source": [
        "### Dataset filtré : toutes les colonnes mais en enlevant les lignes qui ont trop de 0"
      ]
    },
    {
      "cell_type": "code",
      "execution_count": null,
      "metadata": {
        "colab": {
          "base_uri": "https://localhost:8080/"
        },
        "id": "kDNo5EmipPL1",
        "outputId": "e14ce6ff-5b57-4de0-c92d-e1aa9b3425eb"
      },
      "outputs": [],
      "source": [
        "#on enlève les lignes qui ont trop de 0\n",
        "\n",
        "# Spécifier le seuil de valeurs nulles autorisé par ligne\n",
        "seuil_zeros = 5\n",
        "# Assurez-vous que les valeurs non numériques sont converties en NaN pour éviter les erreurs\n",
        "#airbnb = airbnb.apply(pd.to_numeric, errors='coerce')\n",
        "\n",
        "# Compter le nombre de zéros par ligne\n",
        "nb_zeros_par_ligne = (airbnb_train == 0).sum(axis=1)\n",
        "\n",
        "# Afficher quelques lignes avec plus de seuil_zeros (pour vérification)\n",
        "#print(airbnb[nb_zeros_par_ligne > seuil_zeros].head())\n",
        "\n",
        "# Filtrer les lignes en fonction du nombre de zéros\n",
        "airbnb_filtre = airbnb_train[nb_zeros_par_ligne <= seuil_zeros]\n",
        "\n",
        "# Afficher les résultats\n",
        "print(\"Nombre d'entrées avant :\", len(airbnb_train))\n",
        "print(\"Nombre d'entrées après :\", len(airbnb_filtre))\n",
        "print(\"Pourcentage d'entrées restantes :\", (len(airbnb_filtre) / len(airbnb_train)) * 100, \"%\")\n"
      ]
    },
    {
      "cell_type": "markdown",
      "metadata": {
        "id": "wbDN7QVbtlGH"
      },
      "source": [
        "### Dataset en fonction de matrice de corrélation"
      ]
    },
    {
      "cell_type": "markdown",
      "metadata": {
        "id": "XJRPs4XRvQGz"
      },
      "source": [
        "Pour ce dataset, le but est de garder les variables qui ont une forte corrélation avec log_price. Nous avons ces informations grâce aux matrices de corrélations affichées plus haut. Nous allons prendre les colonnes qui ont un coefficient dans la matrice > 0,20."
      ]
    },
    {
      "cell_type": "code",
      "execution_count": null,
      "metadata": {
        "colab": {
          "base_uri": "https://localhost:8080/",
          "height": 206
        },
        "id": "G7JaBvEQtqgI",
        "outputId": "4dd22077-cd59-4c66-9464-850387476574"
      },
      "outputs": [],
      "source": [
        "columns2 = [\"room_type\", \"bathrooms\", \"bedrooms\",\"beds\", \"tv/wifi\",\"log_price\"]\n",
        "\n",
        "feature_selector = FeatureSelection(columns2)\n",
        "\n",
        "airbnb_matrice_corr = feature_selector.transform(airbnb_train_transformed)\n",
        "airbnb_matrice_corr.head()"
      ]
    },
    {
      "cell_type": "markdown",
      "metadata": {
        "id": "gZGYCRlwtq8q"
      },
      "source": [
        "### Dataset en fonction des graphiques"
      ]
    },
    {
      "cell_type": "markdown",
      "metadata": {
        "id": "YpGDlUl4E-2w"
      },
      "source": [
        "D'après les représentations graphiques, les variables qui nous paraissent importantes sont celles sur les type de logement, la taille du logement (nombre de salles de bain, de chambre, de lits), la fiabilité de l'hôte, les avis, les équipements majeurs (cuisine, salle de bain, internet)."
      ]
    },
    {
      "cell_type": "code",
      "execution_count": null,
      "metadata": {
        "colab": {
          "base_uri": "https://localhost:8080/",
          "height": 226
        },
        "id": "9FKSfL_2tuOq",
        "outputId": "a8428a78-ab3f-461f-9450-a3447f034ee3"
      },
      "outputs": [],
      "source": [
        "columns3 = [\"property_type\", \"bathrooms\",\"host_has_profile_pic\",\n",
        "           \"host_identity_verified\",\"host_since\", \"last_review\", \"number_of_reviews\",\"review_scores_rating\",\n",
        "            \"bedrooms\",\"beds\",\"kitchen\",\"tv/wifi\",\"log_price\"]\n",
        "\n",
        "\n",
        "\n",
        "\n",
        "feature_selector = FeatureSelection(columns3)\n",
        "\n",
        "airbnb_graphique = feature_selector.transform(airbnb_train_transformed)\n",
        "airbnb_graphique.head()"
      ]
    },
    {
      "cell_type": "markdown",
      "metadata": {
        "id": "57MIh_YxtyCN"
      },
      "source": [
        "### Dataset intuitif : les variables qui nous paraitrait utiles pour déterminer le prix d'un AirBnB"
      ]
    },
    {
      "cell_type": "code",
      "execution_count": null,
      "metadata": {
        "colab": {
          "base_uri": "https://localhost:8080/",
          "height": 206
        },
        "id": "w2B2P4WVt5cA",
        "outputId": "d546760a-4122-4930-f39d-278c453191f9"
      },
      "outputs": [],
      "source": [
        "columns4 = [\"property_type\",\"room_type\",\"bathrooms\", \"cleaning_fee\",\"review_scores_rating\",\"bedrooms\",\"beds\", \"kitchen\",\"tv/wifi\",\"log_price\"]\n",
        "\n",
        "\n",
        "feature_selector = FeatureSelection(columns4)\n",
        "\n",
        "airbnb_utile = feature_selector.transform(airbnb_train_transformed)\n",
        "airbnb_utile.head()"
      ]
    },
    {
      "cell_type": "markdown",
      "metadata": {
        "id": "GgtpgHyaB4Ut"
      },
      "source": [
        "# 2. Prédictions (Modèles)"
      ]
    },
    {
      "cell_type": "markdown",
      "metadata": {
        "id": "PiNj6tyKO9Nz"
      },
      "source": [
        "## PCA"
      ]
    },
    {
      "cell_type": "code",
      "execution_count": 21,
      "metadata": {
        "id": "jx1o-hFfO_ZE"
      },
      "outputs": [],
      "source": [
        "#importer les librairies\n",
        "from sklearn.decomposition import PCA\n",
        "from sklearn.preprocessing import StandardScaler"
      ]
    },
    {
      "cell_type": "code",
      "execution_count": null,
      "metadata": {
        "colab": {
          "base_uri": "https://localhost:8080/"
        },
        "id": "Q-_lBV04PDZ4",
        "outputId": "676f58d9-10a2-4f42-c6d9-95586a47053c"
      },
      "outputs": [],
      "source": [
        "#importer les librairies\n",
        "from sklearn.decomposition import PCA\n",
        "from sklearn.preprocessing import StandardScaler\n",
        "\n",
        "#standardiser les données\n",
        "scaler=StandardScaler()\n",
        "airbnb_train_std=scaler.fit_transform(airbnb_train)\n",
        "\n",
        "#Créer le modèle de la PCA\n",
        "pca=PCA()\n",
        "\n",
        "#appliquer la PCA et projeter les données\n",
        "airbnb_train_pca=pca.fit_transform(airbnb_train_std)\n",
        "\n",
        "#obtenir les composantes principales (= les vect pp)\n",
        "#print('Composantes principales :')\n",
        "#print(pca.components_)\n",
        "\n",
        "#obtenir les variances expliquées (=les val pp)\n",
        "print('Variances expliquées :')\n",
        "print(pca.explained_variance_)\n",
        "\n",
        "#obtenir les proportions des variances expliquées (=les taux d'inertie)\n",
        "print('Proportions des variances expliquées : ')\n",
        "proportion_variance_expliquee=pca.explained_variance_ratio_\n",
        "print(proportion_variance_expliquee)"
      ]
    },
    {
      "cell_type": "code",
      "execution_count": null,
      "metadata": {
        "colab": {
          "base_uri": "https://localhost:8080/",
          "height": 0
        },
        "id": "f7xcgyH7RAZe",
        "outputId": "9f14a09c-7c5b-408a-f5c6-ae61aacfd11c"
      },
      "outputs": [],
      "source": [
        "import matplotlib.pyplot as plt\n",
        "\n",
        "# Calculer les proportions cumulatives de variance expliquée\n",
        "cumulative_variance_ratio = proportion_variance_expliquee.cumsum()\n",
        "\n",
        "# Tracer le graphique\n",
        "plt.figure(figsize=(10, 6))\n",
        "plt.plot(range(1, len(cumulative_variance_ratio) + 1), cumulative_variance_ratio, marker='o', linestyle='-')\n",
        "plt.title('Proportion cumulative de variance expliquée')\n",
        "plt.xlabel('Nombre de composantes principales')\n",
        "plt.ylabel('Proportion cumulative de variance expliquée')\n",
        "plt.grid(True)\n",
        "plt.show()"
      ]
    },
    {
      "cell_type": "code",
      "execution_count": null,
      "metadata": {
        "colab": {
          "base_uri": "https://localhost:8080/"
        },
        "id": "FYae1uAXR_xs",
        "outputId": "65dfa0cc-79da-4ae7-c91e-f7729da50638"
      },
      "outputs": [],
      "source": [
        "# Créer une instance PCA avec 5 composantes principales\n",
        "pca = PCA(n_components=5)\n",
        "\n",
        "# Appliquer la PCA aux données standardisées\n",
        "airbnb_train_pca = pca.fit_transform(airbnb_train_std)\n",
        "\n",
        "# Créer un DataFrame à partir des composantes principales\n",
        "airbnb_train_pca_df = pd.DataFrame(data=airbnb_train_pca, columns=['PC1', 'PC2', 'PC3', 'PC4', 'PC5'])\n",
        "#airbnb_train_pca_df = pd.DataFrame(data=airbnb_train_pca, columns=['PC1', 'PC2'])\n",
        "\n",
        "# Afficher les premières lignes du DataFrame des composantes principales\n",
        "print(airbnb_train_pca_df.head())"
      ]
    },
    {
      "cell_type": "code",
      "execution_count": null,
      "metadata": {
        "colab": {
          "base_uri": "https://localhost:8080/"
        },
        "id": "fLCoP_3WUZl5",
        "outputId": "5cac110c-14fc-4691-c7de-3ae26bf0f330"
      },
      "outputs": [],
      "source": [
        "from sklearn.model_selection import train_test_split\n",
        "from sklearn.linear_model import LinearRegression\n",
        "from sklearn.metrics import mean_squared_error\n",
        "from sklearn.metrics import accuracy_score\n",
        "\n",
        "# Séparation des features et de la cible\n",
        "X = airbnb_train.copy()\n",
        "y = train_data['log_price']\n",
        "\n",
        "# Division des données en ensembles d'entraînement et de test\n",
        "X_train, X_test, y_train, y_test = train_test_split(X, y)\n",
        "\n",
        "# Standardisation des données\n",
        "scaler = StandardScaler()\n",
        "X_train_scaled = scaler.fit_transform(X_train)\n",
        "X_test_scaled = scaler.transform(X_test)\n",
        "\n",
        "# Application de la PCA\n",
        "pca = PCA(n_components=5)\n",
        "X_train_pca = pca.fit_transform(X_train_scaled)\n",
        "X_test_pca = pca.transform(X_test_scaled)\n",
        "\n",
        "# Entraînement du modèle de régression linéaire\n",
        "model = LinearRegression()\n",
        "model.fit(X_train_pca, y_train)\n",
        "\n",
        "# Prédiction du log_price sur l'ensemble de test\n",
        "y_pred_train=model.predict(X_train_pca)\n",
        "y_pred_test = model.predict(X_test_pca)\n",
        "\n",
        "# Calcul de l'erreur quadratique moyenne\n",
        "mse_test = mean_squared_error(y_test, y_pred_test)\n",
        "print(\"Erreur quadratique moyenne :\", mse_test)\n",
        "\n",
        "mse_train = mean_squared_error(y_train, y_pred_train)\n",
        "print(\"Erreur quadratique moyenne :\", mse_train)\n",
        "\n",
        "from sklearn.metrics import r2_score\n",
        "\n",
        "# Calculer le score R^2 sur l'ensemble d'entraînement\n",
        "train_r2_score = r2_score(y_train, y_pred_train)\n",
        "\n",
        "# Calculer le score R^2 sur l'ensemble de test\n",
        "test_r2_score = r2_score(y_test, y_pred_test)\n",
        "\n",
        "print(\"Score R^2 sur l'ensemble d'entraînement :\", train_r2_score)\n",
        "print(\"Score R^2 sur l'ensemble de test :\", test_r2_score)\n",
        "\n",
        "\n",
        "print(f\"Score en entrainenement : {r2_score(y_true=y_train, y_pred=y_pred_train)}\")\n",
        "print(f\"Score en test : {r2_score(y_true=y_test, y_pred=y_pred_test)}\")"
      ]
    },
    {
      "cell_type": "markdown",
      "metadata": {
        "id": "VdlpzHesTSQ2"
      },
      "source": [
        "## Modèle Regression linéaire multiple"
      ]
    },
    {
      "cell_type": "markdown",
      "metadata": {
        "id": "eqwnA5A_TmO7"
      },
      "source": [
        "### Régression linéaire avec tout le modèle"
      ]
    },
    {
      "cell_type": "code",
      "execution_count": null,
      "metadata": {
        "colab": {
          "base_uri": "https://localhost:8080/"
        },
        "id": "9MMuC6pDph4v",
        "outputId": "8a62b8a4-7f57-4cd6-f091-066100294366"
      },
      "outputs": [],
      "source": [
        "from sklearn.model_selection import train_test_split\n",
        "from sklearn.linear_model import LinearRegression\n",
        "from sklearn.metrics import mean_squared_error\n",
        "from sklearn.metrics import accuracy_score\n",
        "\n",
        "# Séparation des features et de la cible\n",
        "X = airbnb_train.copy()\n",
        "y = train_data['log_price']\n",
        "\n",
        "# Division des données en ensembles d'entraînement et de test\n",
        "X_train, X_test, y_train, y_test = train_test_split(X, y)\n",
        "\n",
        "# Entraînement du modèle de régression linéaire\n",
        "model = LinearRegression()\n",
        "model.fit(X_train, y_train)\n",
        "\n",
        "# Prédiction du log_price sur l'ensemble de test\n",
        "y_pred_train=model.predict(X_train)\n",
        "y_pred_test = model.predict(X_test)\n",
        "\n",
        "# Calcul de l'erreur quadratique moyenne\n",
        "mse_test = mean_squared_error(y_test, y_pred_test)\n",
        "print(\"Erreur quadratique moyenne en test :\", mse_test)\n",
        "\n",
        "mse_train = mean_squared_error(y_train, y_pred_train)\n",
        "print(\"Erreur quadratique moyenne en train :\", mse_train)\n",
        "\n",
        "from sklearn.metrics import r2_score\n",
        "\n",
        "print(f\"Score en entrainenement : {r2_score(y_true=y_train, y_pred=y_pred_train)}\")\n",
        "print(f\"Score en test : {r2_score(y_true=y_test, y_pred=y_pred_test)}\")"
      ]
    },
    {
      "cell_type": "markdown",
      "metadata": {
        "id": "PpShQHGwTsis"
      },
      "source": [
        "### Régression linéaire en enlevant les lignes qui ont trop de valeures nulles ou égale à 0, mais cela réduit de moitié la taille du dataset\n"
      ]
    },
    {
      "cell_type": "code",
      "execution_count": null,
      "metadata": {
        "colab": {
          "base_uri": "https://localhost:8080/"
        },
        "id": "ueRPlaq8rYAC",
        "outputId": "127554de-4774-4573-f975-24931a7a8c8c"
      },
      "outputs": [],
      "source": [
        "from sklearn.model_selection import train_test_split\n",
        "from sklearn.linear_model import LinearRegression\n",
        "from sklearn.metrics import mean_squared_error\n",
        "from sklearn.metrics import accuracy_score\n",
        "\n",
        "# Séparation des features et de la cible\n",
        "X = airbnb_filtre.copy()\n",
        "X = X.drop(columns=['log_price'])\n",
        "y = airbnb_filtre['log_price']\n",
        "\n",
        "# Division des données en ensembles d'entraînement et de test\n",
        "X_train, X_test, y_train, y_test = train_test_split(X, y)\n",
        "\n",
        "# Entraînement du modèle de régression linéaire\n",
        "model = LinearRegression()\n",
        "model.fit(X_train, y_train)\n",
        "\n",
        "# Prédiction du log_price sur l'ensemble de test\n",
        "y_pred_train=model.predict(X_train)\n",
        "y_pred_test = model.predict(X_test)\n",
        "\n",
        "# Calcul de l'erreur quadratique moyenne\n",
        "mse_test = mean_squared_error(y_test, y_pred_test)\n",
        "print(\"Erreur quadratique moyenne en test :\", mse_test)\n",
        "\n",
        "mse_train = mean_squared_error(y_train, y_pred_train)\n",
        "print(\"Erreur quadratique moyenne en train :\", mse_train)\n",
        "\n",
        "from sklearn.metrics import r2_score\n",
        "\n",
        "print(f\"Score en entrainenement : {r2_score(y_true=y_train, y_pred=y_pred_train)}\")\n",
        "print(f\"Score en test : {r2_score(y_true=y_test, y_pred=y_pred_test)}\")"
      ]
    },
    {
      "cell_type": "code",
      "execution_count": null,
      "metadata": {
        "colab": {
          "base_uri": "https://localhost:8080/",
          "height": 0
        },
        "id": "sOckZoKntPLs",
        "outputId": "5c6cc31a-eebd-4d3a-ac76-3ebc3c15c8cc"
      },
      "outputs": [],
      "source": [
        "import matplotlib.pyplot as plt\n",
        "\n",
        "plt.scatter(y_test, y_pred_test, alpha=0.3)\n",
        "plt.xlabel(\"Valeurs réelles\")\n",
        "plt.ylabel(\"Valeurs prédites\")\n",
        "plt.title(\"Valeurs réelles vs Valeurs prédites\")\n",
        "plt.show()"
      ]
    },
    {
      "cell_type": "markdown",
      "metadata": {
        "id": "JKZbPxxstm8i"
      },
      "source": [
        "### Regression lineaire avec toutes les entrées ; mais en séparant celles qui ont plus de 5 valeures nulles et les autres."
      ]
    },
    {
      "cell_type": "code",
      "execution_count": null,
      "metadata": {
        "colab": {
          "base_uri": "https://localhost:8080/"
        },
        "id": "eB90pr8wuBkh",
        "outputId": "4e2fb58b-5553-40b7-c348-934ef2a5ca97"
      },
      "outputs": [],
      "source": [
        "import pandas as pd\n",
        "import numpy as np\n",
        "from sklearn.model_selection import train_test_split\n",
        "from sklearn.linear_model import LinearRegression\n",
        "from sklearn.metrics import mean_squared_error, r2_score\n",
        "\n",
        "\n",
        "# Spécifier le seuil de zéros autorisé par ligne\n",
        "seuil_zeros = 3\n",
        "\n",
        "# Assurez-vous que les valeurs non numériques sont converties en NaN pour éviter les erreurs\n",
        "airbnb_train = airbnb_train.apply(pd.to_numeric, errors='coerce')\n",
        "\n",
        "# Compter le nombre de zéros par ligne\n",
        "nb_zeros_par_ligne = (airbnb_train == 0).sum(axis=1)\n",
        "\n",
        "# Séparer les lignes en fonction du nombre de zéros\n",
        "airbnb_train_filtre = airbnb_train[nb_zeros_par_ligne <= seuil_zeros]\n",
        "airbnb_train_exclu = airbnb_train[nb_zeros_par_ligne > seuil_zeros]\n",
        "\n",
        "# Séparation des features et de la cible pour les lignes filtrées\n",
        "X_filtre = airbnb_train_filtre.drop(columns=['log_price'])\n",
        "y_filtre = airbnb_train_filtre['log_price']\n",
        "\n",
        "# Séparation des features et de la cible pour les lignes exclues\n",
        "X_exclu = airbnb_train_exclu.drop(columns=['log_price'])\n",
        "y_exclu = airbnb_train_exclu['log_price']\n",
        "\n",
        "# Division des données en ensembles d'entraînement et de test\n",
        "X_train_filtre, X_test_filtre, y_train_filtre, y_test_filtre = train_test_split(X_filtre, y_filtre, test_size=0.2, random_state=42)\n",
        "X_train_exclu, X_test_exclu, y_train_exclu, y_test_exclu = train_test_split(X_exclu, y_exclu, test_size=0.2, random_state=42)\n",
        "\n",
        "# Entraînement des modèles de régression linéaire\n",
        "model_filtre = LinearRegression()\n",
        "model_filtre.fit(X_train_filtre, y_train_filtre)\n",
        "\n",
        "model_exclu = LinearRegression()\n",
        "model_exclu.fit(X_train_exclu, y_train_exclu)\n",
        "\n",
        "# Prédiction du log_price sur les ensembles de test\n",
        "y_pred_test_filtre = model_filtre.predict(X_test_filtre)\n",
        "y_pred_test_exclu = model_exclu.predict(X_test_exclu)\n",
        "\n",
        "# Prédiction du log_price sur les ensembles d'entraînement\n",
        "y_pred_train_filtre = model_filtre.predict(X_train_filtre)\n",
        "y_pred_train_exclu = model_exclu.predict(X_train_exclu)\n",
        "\n",
        "# Calcul de l'erreur quadratique moyenne pour les deux ensembles\n",
        "mse_test_filtre = mean_squared_error(y_test_filtre, y_pred_test_filtre)\n",
        "mse_test_exclu = mean_squared_error(y_test_exclu, y_pred_test_exclu)\n",
        "\n",
        "mse_train_filtre = mean_squared_error(y_train_filtre, y_pred_train_filtre)\n",
        "mse_train_exclu = mean_squared_error(y_train_exclu, y_pred_train_exclu)\n",
        "\n",
        "print(\"Erreur quadratique moyenne en test (filtré) :\", mse_test_filtre)\n",
        "print(\"Erreur quadratique moyenne en test (exclu) :\", mse_test_exclu)\n",
        "print(\"Erreur quadratique moyenne en train (filtré) :\", mse_train_filtre)\n",
        "print(\"Erreur quadratique moyenne en train (exclu) :\", mse_train_exclu)\n",
        "\n",
        "# Combiner les prédictions\n",
        "y_test_combined = np.concatenate((y_test_filtre, y_test_exclu))\n",
        "y_pred_test_combined = np.concatenate((y_pred_test_filtre, y_pred_test_exclu))\n",
        "\n",
        "y_train_combined = np.concatenate((y_train_filtre, y_train_exclu))\n",
        "y_pred_train_combined = np.concatenate((y_pred_train_filtre, y_pred_train_exclu))\n",
        "\n",
        "# Calcul des MSE pour les ensembles combinés\n",
        "mse_combined_test = mean_squared_error(y_test_combined, y_pred_test_combined)\n",
        "mse_combined_train = mean_squared_error(y_train_combined, y_pred_train_combined)\n",
        "\n",
        "print(\"Erreur quadratique moyenne en test pour l'ensemble combiné :\", mse_combined_test)\n",
        "print(\"Erreur quadratique moyenne en train pour l'ensemble combiné :\", mse_combined_train)\n"
      ]
    },
    {
      "cell_type": "markdown",
      "metadata": {
        "id": "CmJo-wn9FVU6"
      },
      "source": [
        "## Modèle Ridge"
      ]
    },
    {
      "cell_type": "code",
      "execution_count": null,
      "metadata": {
        "colab": {
          "base_uri": "https://localhost:8080/"
        },
        "id": "2v3P1P77KCyB",
        "outputId": "453752bd-6a79-4d5a-e942-19d2989bd75d"
      },
      "outputs": [],
      "source": [
        "from sklearn.model_selection import train_test_split\n",
        "from sklearn.metrics import mean_squared_error\n",
        "from sklearn.linear_model import Ridge\n",
        "\n",
        "# Séparation des features et de la cible\n",
        "X = airbnb_train.copy()\n",
        "X = X.drop(columns=['log_price'])\n",
        "y = airbnb_train['log_price']\n",
        "\n",
        "# Division des données en ensembles d'entraînement et de test\n",
        "X_train, X_test, y_train, y_test = train_test_split(X, y)\n",
        "\n",
        "# Entraînement du modèle de régression linéaire\n",
        "model = Ridge()\n",
        "model.fit(X_train, y_train)\n",
        "\n",
        "# Prédiction du log_price sur l'ensemble de test\n",
        "y_pred_train=model.predict(X_train)\n",
        "y_pred_test = model.predict(X_test)\n",
        "\n",
        "# Calcul de l'erreur quadratique moyenne\n",
        "mse_test = mean_squared_error(y_test, y_pred_test)\n",
        "print(\"Erreur quadratique moyenne en test :\", mse_test)\n",
        "\n",
        "mse_train = mean_squared_error(y_train, y_pred_train)\n",
        "print(\"Erreur quadratique moyenne en train :\", mse_train)\n",
        "\n",
        "from sklearn.metrics import r2_score\n",
        "\n",
        "print(f\"Score en entrainenement : {r2_score(y_true=y_train, y_pred=y_pred_train)}\")\n",
        "print(f\"Score en test : {r2_score(y_true=y_test, y_pred=y_pred_test)}\")\n"
      ]
    },
    {
      "cell_type": "code",
      "execution_count": null,
      "metadata": {
        "colab": {
          "base_uri": "https://localhost:8080/"
        },
        "id": "BgP20OrPK_-k",
        "outputId": "2ff8284d-9a38-4ed5-99d3-27b79e1150a2"
      },
      "outputs": [],
      "source": [
        "#Avec GridSearch pour optimiser les paramètres\n",
        "\n",
        "X_train, X_test, y_train, y_test = train_test_split(X, y)\n",
        "model = Ridge()\n",
        "model.fit(X_train,y_train)\n",
        "y_pred_train = model.predict(X_train)\n",
        "y_pred_test = model.predict(X_test)\n",
        "\n",
        "from sklearn.model_selection import GridSearchCV\n",
        "# Définir la grille de paramètres\n",
        "parameters = {'alpha': [0.01, 0.1, 1, 10, 100]}\n",
        "grid=GridSearchCV(model, parameters,cv=10)\n",
        "\n",
        "# Exécuter la recherche\n",
        "grid.fit(X_train, y_train)\n",
        "\n",
        "print(grid.best_params_)\n",
        "\n",
        "# Meilleurs paramètres et modèle\n",
        "print(f\"Best parameters: {grid.best_params_}\")\n",
        "best_ridge_model = grid.best_estimator_\n",
        "\n",
        "print(f\"jsp quoi : {best_ridge_model}\")\n",
        "\n",
        "# Réentraîner sur l'ensemble complet des données d'entraînement\n",
        "best_ridge_model.fit(X_train, y_train)\n",
        "y_pred_train = best_ridge_model.predict(X_train)\n",
        "y_pred_test = best_ridge_model.predict(X_test)\n",
        "\n",
        "# Calcul de l'erreur quadratique moyenne\n",
        "mse_test = mean_squared_error(y_test, y_pred_test)\n",
        "print(\"Erreur quadratique moyenne en test :\", mse_test)\n",
        "mse_train = mean_squared_error(y_train, y_pred_train)\n",
        "print(\"Erreur quadratique moyenne en train :\", mse_train)\n",
        "\n",
        "#Calcule score r^2\n",
        "print(f\"Score en entrainenement : {r2_score(y_true=y_train, y_pred=y_pred_train)}\")\n",
        "print(f\"Score en test : {r2_score(y_true=y_test, y_pred=y_pred_test)}\")"
      ]
    },
    {
      "cell_type": "markdown",
      "metadata": {
        "id": "BkEVRC4GSJNL"
      },
      "source": [
        "## Modèle Lasso"
      ]
    },
    {
      "cell_type": "code",
      "execution_count": null,
      "metadata": {
        "colab": {
          "base_uri": "https://localhost:8080/"
        },
        "id": "jJ3JTN4EFbO8",
        "outputId": "03924c29-5b1c-4f60-c18c-6ef73a6a1d27"
      },
      "outputs": [],
      "source": [
        "from sklearn.model_selection import train_test_split\n",
        "from sklearn.metrics import mean_squared_error\n",
        "from sklearn.linear_model import Lasso\n",
        "\n",
        "# Séparation des features et de la cible\n",
        "X = airbnb_train.copy()\n",
        "X = X.drop(columns=['log_price'])\n",
        "y = airbnb_train['log_price']\n",
        "\n",
        "# Division des données en ensembles d'entraînement et de test\n",
        "X_train, X_test, y_train, y_test = train_test_split(X, y)\n",
        "\n",
        "# Entraînement du modèle de régression linéaire\n",
        "model = Lasso()\n",
        "model.fit(X_train, y_train)\n",
        "\n",
        "# Prédiction du log_price sur l'ensemble de test\n",
        "y_pred_train=model.predict(X_train)\n",
        "y_pred_test = model.predict(X_test)\n",
        "\n",
        "# Calcul de l'erreur quadratique moyenne\n",
        "mse_test = mean_squared_error(y_test, y_pred_test)\n",
        "print(\"Erreur quadratique moyenne en test :\", mse_test)\n",
        "\n",
        "mse_train = mean_squared_error(y_train, y_pred_train)\n",
        "print(\"Erreur quadratique moyenne en train :\", mse_train)\n",
        "\n",
        "from sklearn.metrics import r2_score\n",
        "\n",
        "print(f\"Score en entrainenement : {r2_score(y_true=y_train, y_pred=y_pred_train)}\")\n",
        "print(f\"Score en test : {r2_score(y_true=y_test, y_pred=y_pred_test)}\")\n"
      ]
    },
    {
      "cell_type": "markdown",
      "metadata": {
        "id": "_LN3iG_ESXJQ"
      },
      "source": [
        "## ElasticNet"
      ]
    },
    {
      "cell_type": "code",
      "execution_count": null,
      "metadata": {
        "colab": {
          "base_uri": "https://localhost:8080/"
        },
        "id": "uSY1wCRQSb-M",
        "outputId": "e74c7735-5f19-4854-8ba6-e8b9f6956b72"
      },
      "outputs": [],
      "source": [
        "from sklearn.model_selection import train_test_split\n",
        "from sklearn.metrics import mean_squared_error\n",
        "from sklearn.linear_model import ElasticNet\n",
        "\n",
        "# Séparation des features et de la cible\n",
        "X = airbnb_train.copy()\n",
        "X = X.drop(columns=['log_price'])\n",
        "y = airbnb_train['log_price']\n",
        "\n",
        "# Division des données en ensembles d'entraînement et de test\n",
        "X_train, X_test, y_train, y_test = train_test_split(X, y)\n",
        "\n",
        "# Entraînement du modèle de régression linéaire\n",
        "model = ElasticNet()\n",
        "model.fit(X_train, y_train)\n",
        "\n",
        "# Prédiction du log_price sur l'ensemble de test\n",
        "y_pred_train=model.predict(X_train)\n",
        "y_pred_test = model.predict(X_test)\n",
        "\n",
        "# Calcul de l'erreur quadratique moyenne\n",
        "mse_test = mean_squared_error(y_test, y_pred_test)\n",
        "print(\"Erreur quadratique moyenne en test :\", mse_test)\n",
        "\n",
        "mse_train = mean_squared_error(y_train, y_pred_train)\n",
        "print(\"Erreur quadratique moyenne en train :\", mse_train)\n",
        "\n",
        "from sklearn.metrics import r2_score\n",
        "\n",
        "print(f\"Score en entrainenement : {r2_score(y_true=y_train, y_pred=y_pred_train)}\")\n",
        "print(f\"Score en test : {r2_score(y_true=y_test, y_pred=y_pred_test)}\")\n"
      ]
    },
    {
      "cell_type": "markdown",
      "metadata": {
        "id": "gfopbGo2SkL6"
      },
      "source": [
        "## SVR"
      ]
    },
    {
      "cell_type": "code",
      "execution_count": null,
      "metadata": {
        "colab": {
          "base_uri": "https://localhost:8080/"
        },
        "id": "BNx6uhFiSqtm",
        "outputId": "754bd69c-2b8b-4b2e-d6bc-5bc631d0fe2f"
      },
      "outputs": [],
      "source": [
        "from sklearn.model_selection import train_test_split\n",
        "from sklearn.metrics import mean_squared_error\n",
        "from sklearn.svm import SVR\n",
        "\n",
        "# Séparation des features et de la cible\n",
        "X = airbnb_train.copy()\n",
        "X = X.drop(columns=['log_price'])\n",
        "y = airbnb_train['log_price']\n",
        "\n",
        "# Division des données en ensembles d'entraînement et de test\n",
        "X_train, X_test, y_train, y_test = train_test_split(X, y)\n",
        "\n",
        "# Entraînement du modèle de régression linéaire\n",
        "model = SVR()\n",
        "model.fit(X_train, y_train)\n",
        "\n",
        "# Prédiction du log_price sur l'ensemble de test\n",
        "y_pred_train=model.predict(X_train)\n",
        "y_pred_test = model.predict(X_test)\n",
        "\n",
        "# Calcul de l'erreur quadratique moyenne\n",
        "mse_test = mean_squared_error(y_test, y_pred_test)\n",
        "print(\"Erreur quadratique moyenne en test :\", mse_test)\n",
        "\n",
        "mse_train = mean_squared_error(y_train, y_pred_train)\n",
        "print(\"Erreur quadratique moyenne en train :\", mse_train)\n",
        "\n",
        "from sklearn.metrics import r2_score\n",
        "\n",
        "print(f\"Score en entrainenement : {r2_score(y_true=y_train, y_pred=y_pred_train)}\")\n",
        "print(f\"Score en test : {r2_score(y_true=y_test, y_pred=y_pred_test)}\")\n"
      ]
    },
    {
      "cell_type": "markdown",
      "metadata": {
        "id": "1Zwnev1cS_tu"
      },
      "source": [
        "## DecisionTreeRegressor"
      ]
    },
    {
      "cell_type": "code",
      "execution_count": null,
      "metadata": {
        "colab": {
          "base_uri": "https://localhost:8080/"
        },
        "id": "l1KCw6leTFtq",
        "outputId": "e6f2b1e5-9e82-422e-f5e5-a92f0bee977f"
      },
      "outputs": [],
      "source": [
        "\n",
        "from sklearn.model_selection import train_test_split\n",
        "from sklearn.metrics import mean_squared_error\n",
        "from sklearn.tree import DecisionTreeRegressor\n",
        "\n",
        "# Séparation des features et de la cible\n",
        "X = airbnb_train.copy()\n",
        "X = X.drop(columns=['log_price'])\n",
        "y = airbnb_train['log_price']\n",
        "\n",
        "# Division des données en ensembles d'entraînement et de test\n",
        "X_train, X_test, y_train, y_test = train_test_split(X, y)\n",
        "\n",
        "# Entraînement du modèle de régression linéaire\n",
        "model = DecisionTreeRegressor()\n",
        "model.fit(X_train, y_train)\n",
        "\n",
        "# Prédiction du log_price sur l'ensemble de test\n",
        "y_pred_train=model.predict(X_train)\n",
        "y_pred_test = model.predict(X_test)\n",
        "\n",
        "# Calcul de l'erreur quadratique moyenne\n",
        "mse_test = mean_squared_error(y_test, y_pred_test)\n",
        "print(\"Erreur quadratique moyenne en test :\", mse_test)\n",
        "\n",
        "mse_train = mean_squared_error(y_train, y_pred_train)\n",
        "print(\"Erreur quadratique moyenne en train :\", mse_train)\n",
        "\n",
        "from sklearn.metrics import r2_score\n",
        "\n",
        "print(f\"Score en entrainenement : {r2_score(y_true=y_train, y_pred=y_pred_train)}\")\n",
        "print(f\"Score en test : {r2_score(y_true=y_test, y_pred=y_pred_test)}\")"
      ]
    },
    {
      "cell_type": "markdown",
      "metadata": {
        "id": "6iebP3gsUHH7"
      },
      "source": [
        "## RandomForestRegressor"
      ]
    },
    {
      "cell_type": "code",
      "execution_count": null,
      "metadata": {
        "colab": {
          "base_uri": "https://localhost:8080/"
        },
        "id": "LDMVtO7xUKp5",
        "outputId": "92f7789d-fef5-4a9e-8cb7-0a62991eeef8"
      },
      "outputs": [],
      "source": [
        "from sklearn.ensemble import RandomForestRegressor\n",
        "\n",
        "# Séparation des features et de la cible\n",
        "X = airbnb_train.copy()\n",
        "X = X.drop(columns=['log_price'])\n",
        "y = airbnb_train['log_price']\n",
        "\n",
        "# Division des données en ensembles d'entraînement et de test\n",
        "X_train, X_test, y_train, y_test = train_test_split(X, y)\n",
        "\n",
        "# Entraînement du modèle de régression linéaire\n",
        "model = RandomForestRegressor()\n",
        "model.fit(X_train, y_train)\n",
        "\n",
        "# Prédiction du log_price sur l'ensemble de test\n",
        "y_pred_train=model.predict(X_train)\n",
        "y_pred_test = model.predict(X_test)\n",
        "\n",
        "# Calcul de l'erreur quadratique moyenne\n",
        "mse_test = mean_squared_error(y_test, y_pred_test)\n",
        "print(\"Erreur quadratique moyenne en test :\", mse_test)\n",
        "\n",
        "mse_train = mean_squared_error(y_train, y_pred_train)\n",
        "print(\"Erreur quadratique moyenne en train :\", mse_train)\n",
        "\n",
        "from sklearn.metrics import r2_score\n",
        "\n",
        "print(f\"Score en entrainenement : {r2_score(y_true=y_train, y_pred=y_pred_train)}\")\n",
        "print(f\"Score en test : {r2_score(y_true=y_test, y_pred=y_pred_test)}\")"
      ]
    },
    {
      "cell_type": "markdown",
      "metadata": {
        "id": "irNCtjmxULLz"
      },
      "source": [
        "## GradientBoostingRegressor"
      ]
    },
    {
      "cell_type": "code",
      "execution_count": null,
      "metadata": {
        "colab": {
          "base_uri": "https://localhost:8080/"
        },
        "id": "vf7HrzR1UPor",
        "outputId": "bbc42833-c961-4186-d347-802d0c060566"
      },
      "outputs": [],
      "source": [
        "from sklearn.ensemble import GradientBoostingRegressor\n",
        "\n",
        "# Séparation des features et de la cible\n",
        "X = airbnb_train.copy()\n",
        "X = X.drop(columns=['log_price'])\n",
        "y = airbnb_train['log_price']\n",
        "\n",
        "# Division des données en ensembles d'entraînement et de test\n",
        "X_train, X_test, y_train, y_test = train_test_split(X, y)\n",
        "\n",
        "# Entraînement du modèle de régression linéaire\n",
        "model = GradientBoostingRegressor()\n",
        "model.fit(X_train, y_train)\n",
        "\n",
        "# Prédiction du log_price sur l'ensemble de test\n",
        "y_pred_train=model.predict(X_train)\n",
        "y_pred_test = model.predict(X_test)\n",
        "\n",
        "# Calcul de l'erreur quadratique moyenne\n",
        "mse_test = mean_squared_error(y_test, y_pred_test)\n",
        "print(\"Erreur quadratique moyenne en test :\", mse_test)\n",
        "\n",
        "mse_train = mean_squared_error(y_train, y_pred_train)\n",
        "print(\"Erreur quadratique moyenne en train :\", mse_train)\n",
        "\n",
        "from sklearn.metrics import r2_score\n",
        "\n",
        "print(f\"Score en entrainenement : {r2_score(y_true=y_train, y_pred=y_pred_train)}\")\n",
        "print(f\"Score en test : {r2_score(y_true=y_test, y_pred=y_pred_test)}\")"
      ]
    },
    {
      "cell_type": "markdown",
      "metadata": {
        "id": "srID_1XlUUlT"
      },
      "source": [
        "## AdaBoostRegressor"
      ]
    },
    {
      "cell_type": "code",
      "execution_count": null,
      "metadata": {
        "colab": {
          "base_uri": "https://localhost:8080/"
        },
        "id": "d-n6xQGEUXIF",
        "outputId": "bf5e4fe1-4849-4eab-d434-10e7b0f74ba1"
      },
      "outputs": [],
      "source": [
        "from sklearn.ensemble import AdaBoostRegressor\n",
        "\n",
        "# Séparation des features et de la cible\n",
        "X = airbnb_train.copy()\n",
        "X = X.drop(columns=['log_price'])\n",
        "y = airbnb_train['log_price']\n",
        "\n",
        "# Division des données en ensembles d'entraînement et de test\n",
        "X_train, X_test, y_train, y_test = train_test_split(X, y)\n",
        "\n",
        "# Entraînement du modèle de régression linéaire\n",
        "model = AdaBoostRegressor()\n",
        "model.fit(X_train, y_train)\n",
        "\n",
        "# Prédiction du log_price sur l'ensemble de test\n",
        "y_pred_train=model.predict(X_train)\n",
        "y_pred_test = model.predict(X_test)\n",
        "\n",
        "# Calcul de l'erreur quadratique moyenne\n",
        "mse_test = mean_squared_error(y_test, y_pred_test)\n",
        "print(\"Erreur quadratique moyenne en test :\", mse_test)\n",
        "\n",
        "mse_train = mean_squared_error(y_train, y_pred_train)\n",
        "print(\"Erreur quadratique moyenne en train :\", mse_train)\n",
        "\n",
        "from sklearn.metrics import r2_score\n",
        "\n",
        "print(f\"Score en entrainenement : {r2_score(y_true=y_train, y_pred=y_pred_train)}\")\n",
        "print(f\"Score en test : {r2_score(y_true=y_test, y_pred=y_pred_test)}\")"
      ]
    },
    {
      "cell_type": "markdown",
      "metadata": {
        "id": "_rlaj_GOVJJl"
      },
      "source": [
        "## Test de classe pour essayer tous les modèles"
      ]
    },
    {
      "cell_type": "markdown",
      "metadata": {
        "id": "5It7F6Fbsbro"
      },
      "source": [
        "Il y a beaucoup de modèles à essayer avec de nombreux jeux de données différents (avec plus ou moins de variables) donc on va créer une classe qui prend en paramètre un dataset et un modèle pour tester plus rapidement les différents modèles avec les différents datasets"
      ]
    },
    {
      "cell_type": "code",
      "execution_count": 39,
      "metadata": {
        "id": "rSt2tQVTVM5Q"
      },
      "outputs": [],
      "source": [
        "import pandas as pd\n",
        "from sklearn.model_selection import train_test_split\n",
        "from sklearn.metrics import mean_squared_error, r2_score\n",
        "\n",
        "# import des models\n",
        "from sklearn.linear_model import Ridge, LinearRegression, Lasso, ElasticNet\n",
        "from sklearn.svm import SVR\n",
        "from sklearn.tree import DecisionTreeRegressor\n",
        "from sklearn.ensemble import RandomForestRegressor, GradientBoostingRegressor, AdaBoostRegressor\n",
        "\n",
        "\n",
        "def evaluate_model(model, dataset):\n",
        "    # Séparation des features et de la cible\n",
        "    X = dataset.drop(columns=['log_price'])\n",
        "    y = dataset['log_price']\n",
        "\n",
        "    # Division des données en ensembles d'entraînement et de test\n",
        "    X_train, X_test, y_train, y_test = train_test_split(X, y, test_size=0.2, random_state=42)\n",
        "\n",
        "    # Entraînement du modèle\n",
        "    model.fit(X_train, y_train)\n",
        "\n",
        "    # Prédictions\n",
        "    y_pred_train = model.predict(X_train)\n",
        "    y_pred_test = model.predict(X_test)\n",
        "\n",
        "    # Calcul de l'erreur quadratique moyenne pour l'ensemble de test et d'entrainement\n",
        "    mse_test = mean_squared_error(y_test, y_pred_test)\n",
        "    print(f\"Erreur quadratique moyenne en test pour {model.__class__.__name__}: {mse_test}\")\n",
        "    mse_train = mean_squared_error(y_train, y_pred_train)\n",
        "    print(f\"Erreur quadratique moyenne en train pour {model.__class__.__name__}: {mse_train}\")\n",
        "\n",
        "    # Calcul du score R^2\n",
        "    r2_train = r2_score(y_train, y_pred_train)\n",
        "    print(f\"Score R^2 en entraînement pour {model.__class__.__name__}: {r2_train}\")\n",
        "    r2_test = r2_score(y_test, y_pred_test)\n",
        "    print(f\"Score R^2 en test pour {model.__class__.__name__}: {r2_test}\")\n",
        "    print()\n",
        "\n"
      ]
    },
    {
      "cell_type": "code",
      "execution_count": 40,
      "metadata": {
        "id": "cKsWQbmzXVL3"
      },
      "outputs": [],
      "source": [
        "# Liste des modèles à évaluer\n",
        "models = [\n",
        "    LinearRegression(),\n",
        "    Ridge(),\n",
        "    Lasso(),\n",
        "    ElasticNet(),\n",
        "    SVR(),\n",
        "    DecisionTreeRegressor(),\n",
        "    RandomForestRegressor(),\n",
        "    GradientBoostingRegressor(),\n",
        "    AdaBoostRegressor(),\n",
        "]\n",
        "\n"
      ]
    },
    {
      "cell_type": "code",
      "execution_count": null,
      "metadata": {
        "colab": {
          "base_uri": "https://localhost:8080/"
        },
        "id": "kYyjfGEez2Kz",
        "outputId": "3df68e43-0a5c-497b-f6c0-7932a1d59aa9"
      },
      "outputs": [],
      "source": [
        "# Évaluation des modèles pour le dataset avec toutes les variables\n",
        "for model in models:\n",
        "    evaluate_model(model, airbnb_train)"
      ]
    },
    {
      "cell_type": "code",
      "execution_count": null,
      "metadata": {
        "colab": {
          "base_uri": "https://localhost:8080/"
        },
        "id": "EyipFNZOz7FU",
        "outputId": "8b16dcd1-156f-4a92-b298-617d730d5616"
      },
      "outputs": [],
      "source": [
        "# Évaluation des modèles pour le dataset avec toutes les variables, mais les lignes filtrées (les lignes avec trop de 0 ont été supprimées)\n",
        "for model in models:\n",
        "    evaluate_model(model, airbnb_filtre)"
      ]
    },
    {
      "cell_type": "code",
      "execution_count": null,
      "metadata": {
        "colab": {
          "base_uri": "https://localhost:8080/"
        },
        "id": "1PKWkGECz7iG",
        "outputId": "b2131e8d-ec41-4985-c100-66d1719abcd5"
      },
      "outputs": [],
      "source": [
        "# Évaluation des modèles pour le dataset avec les variables choisies d'après la matrice de corrélation\n",
        "for model in models:\n",
        "    evaluate_model(model, airbnb_matrice_corr)"
      ]
    },
    {
      "cell_type": "code",
      "execution_count": null,
      "metadata": {
        "colab": {
          "base_uri": "https://localhost:8080/"
        },
        "id": "M_x8P3x-GM0q",
        "outputId": "80842816-a2ca-4b38-f57b-68bf37deff96"
      },
      "outputs": [],
      "source": [
        "# Évaluation des modèles pour le dataset avec les variables choisies d'après les représentations graphiques\n",
        "for model in models:\n",
        "    evaluate_model(model, airbnb_graphique)\n"
      ]
    },
    {
      "cell_type": "code",
      "execution_count": null,
      "metadata": {
        "colab": {
          "base_uri": "https://localhost:8080/"
        },
        "id": "KtBC2D35z78U",
        "outputId": "a1e8a85e-4ac1-4e6a-8af0-f6c136b367fc"
      },
      "outputs": [],
      "source": [
        "# Évaluation des modèles pour le dataset avec les variables choisies par intuition\n",
        "for model in models:\n",
        "    evaluate_model(model, airbnb_utile)"
      ]
    },
    {
      "cell_type": "markdown",
      "metadata": {
        "id": "p_zimx1j2UbP"
      },
      "source": [
        "# 3. Conclusion"
      ]
    },
    {
      "cell_type": "markdown",
      "metadata": {
        "id": "IRqvntxn2ZcT"
      },
      "source": [
        "\n",
        "On cherche le couple (modèle,dataset) tel que l'erreur quadratique soit le plsu près de 0 et le score r^2 soir le plus proche de 1. Il faut également que l'écart entre le score en entraînement et le score en test soit minime.\n",
        "Ainsi, nous obtenons les meilleurs résultats avec le modèle DecisionTreeRegressor avec le dataset airbnb_train qui correspond à notre dataset le plus complet.\n",
        "\n",
        "A noter que dans le cadre de notre projet, nous n'avions pas de consignes ou de contraintes concernant notre dataset. Dans la réalité, il est souvent nécéssaire d'éliminer des colonnes par souci d'efficacité, de stockage, de temps de traitement, etc. Mais il est normal que plus on garde de variable, plus les prédictions seront justes. C'est pourquoi, ici, c'est avec notre dataset le plus complet que nous obtenons les meilleurs scores. Dans un milieu plus réaliste, il aurait fallu choisir le dataset airbnb_matrice_corr, qui correspond aux variables choisies suite à l'étude de la matrice de corrélation. Mais les dimensions n'ont en effet rien à voir : 5 colonnes pour airbnb_matrice_corr contre 30 pour airbnb_train."
      ]
    },
    {
      "cell_type": "code",
      "execution_count": null,
      "metadata": {
        "colab": {
          "base_uri": "https://localhost:8080/"
        },
        "id": "uW4c3gyA688E",
        "outputId": "8adae393-bfeb-4630-9147-34c35889dd9c"
      },
      "outputs": [],
      "source": [
        "#Récapitulatif modèle et dataset choisi\n",
        "from sklearn.model_selection import train_test_split\n",
        "from sklearn.metrics import mean_squared_error\n",
        "from sklearn.tree import DecisionTreeRegressor\n",
        "\n",
        "# Séparation des features et de la cible\n",
        "X = airbnb_train.copy()\n",
        "X = X.drop(columns=['log_price'])\n",
        "y = airbnb_train['log_price']\n",
        "\n",
        "# Division des données en ensembles d'entraînement et de test\n",
        "X_train, X_test, y_train, y_test = train_test_split(X, y)\n",
        "\n",
        "# Entraînement du modèle de régression linéaire\n",
        "model = DecisionTreeRegressor()\n",
        "model.fit(X_train, y_train)\n",
        "\n",
        "# Prédiction du log_price sur l'ensemble de test\n",
        "y_pred_train=model.predict(X_train)\n",
        "y_pred_test = model.predict(X_test)\n",
        "\n",
        "# Calcul de l'erreur quadratique moyenne\n",
        "mse_test = mean_squared_error(y_test, y_pred_test)\n",
        "print(\"Erreur quadratique moyenne en test :\", mse_test)\n",
        "\n",
        "mse_train = mean_squared_error(y_train, y_pred_train)\n",
        "print(\"Erreur quadratique moyenne en train :\", mse_train)\n",
        "\n",
        "from sklearn.metrics import r2_score\n",
        "\n",
        "print(f\"Score en entrainenement : {r2_score(y_true=y_train, y_pred=y_pred_train)}\")\n",
        "print(f\"Score en test : {r2_score(y_true=y_test, y_pred=y_pred_test)}\")"
      ]
    },
    {
      "cell_type": "code",
      "execution_count": null,
      "metadata": {
        "colab": {
          "base_uri": "https://localhost:8080/",
          "height": 429
        },
        "id": "orRwGxzA6TC9",
        "outputId": "209d1e67-d9c0-4e2d-c982-54f1d177b301"
      },
      "outputs": [],
      "source": [
        "airbnb_test = pd.read_csv(\"airbnb_test.csv\")\n",
        "\n",
        "# J’applique le même traitement que mon fichier entraînement\n",
        "final_X_test = features_transformer.transform(airbnb_test)\n",
        "\n",
        "columns0 = [\"property_type\",\"room_type\", \"bathrooms\", \"bed_type\", \"cancellation_policy\", \"cleaning_fee\",\"first_review\",\"host_has_profile_pic\",\n",
        "           \"host_identity_verified\",\"host_response_rate\",\"host_since\",\"instant_bookable\", \"last_review\", \"latitude\",\"longitude\",\"number_of_reviews\",\"review_scores_rating\",\n",
        "            \"bedrooms\",\"beds\", \"bathroom\",\"bedroom\",\"kitchen\",\"heating\",\"outdoor\",\"tv/wifi\",\"smoking\",\"security\",\"pets\",\"essentials\"]\n",
        "\n",
        "feature_selector = FeatureSelection(columns0)\n",
        "final_X_test = feature_selector.transform(final_X_test)\n",
        "\n",
        "final_X_test.tail()"
      ]
    },
    {
      "cell_type": "code",
      "execution_count": null,
      "metadata": {
        "colab": {
          "base_uri": "https://localhost:8080/"
        },
        "id": "u5O4SGhr6VyG",
        "outputId": "a19c43f0-b54d-4547-a076-46ba00043077"
      },
      "outputs": [],
      "source": [
        "y_final_prediction = model.predict(final_X_test)\n",
        "print(y_final_prediction)"
      ]
    },
    {
      "cell_type": "code",
      "execution_count": null,
      "metadata": {
        "colab": {
          "base_uri": "https://localhost:8080/"
        },
        "id": "64AYT1ybAadR",
        "outputId": "24e20d36-a6be-4666-e4b8-3f0433471271"
      },
      "outputs": [],
      "source": [
        "#sauvegarde\n",
        "# Créez un DataFrame avec les IDs et les prédictions\n",
        "prediction_airbnb = pd.DataFrame({\n",
        "    'id': airbnb_test.iloc[:, 0],\n",
        "    'logpred': y_final_prediction\n",
        "})\n",
        "\n",
        "# Sauvegardez le DataFrame dans un fichier CSV\n",
        "prediction_airbnb.to_csv(\"MaPredictionFinale.csv\", index=False) # index=False pour éviter d’ajouter l’index interne à pandas\n",
        "\n",
        "print(\"Les prédictions ont été sauvegardées dans 'MaPredictionFinale.csv'.\")"
      ]
    },
    {
      "cell_type": "code",
      "execution_count": null,
      "metadata": {
        "colab": {
          "base_uri": "https://localhost:8080/"
        },
        "id": "2nq2DxIF7gOd",
        "outputId": "1caaf72b-bb06-4f5a-c8cf-bd9f7e67fbb2"
      },
      "outputs": [],
      "source": [
        "#Vérification conformité\n",
        "def estConforme(monFichier_csv):\n",
        "    votre_prediction = pd.read_csv(monFichier_csv)\n",
        "\n",
        "    fichier_exemple = pd.read_csv(\"prediction_example.csv\")\n",
        "\n",
        "    assert votre_prediction.columns[1] == fichier_exemple.columns[1], f\"Attention, votre colonne de prédiction doit s'appeler {fichier_exemple.columns[1]}, elle s'appelle '{votre_prediction.columns[1]}'\"\n",
        "    assert len(votre_prediction) == len(fichier_exemple), f\"Attention, vous devriez avoir {len(fichier_exemple)} prédiction dans votre fichier, il en contient '{len(votre_prediction)}'\"\n",
        "\n",
        "    assert np.all(votre_prediction.iloc[:,0] == fichier_exemple.iloc[:, 0])\n",
        "\n",
        "    print(\"Fichier conforme!\")\n",
        "\n",
        "estConforme(\"MaPredictionFinale.csv\")"
      ]
    }
  ],
  "metadata": {
    "colab": {
      "collapsed_sections": [
        "diLcphXBYI-N",
        "0nBE9uv2GcO_",
        "wwVfAhEkAJuu",
        "j0ZscvACAQXb",
        "jCkIDy8GAW-r",
        "PiNj6tyKO9Nz",
        "VdlpzHesTSQ2",
        "PpShQHGwTsis",
        "JKZbPxxstm8i",
        "CmJo-wn9FVU6",
        "BkEVRC4GSJNL",
        "_LN3iG_ESXJQ",
        "gfopbGo2SkL6",
        "1Zwnev1cS_tu",
        "6iebP3gsUHH7",
        "irNCtjmxULLz",
        "srID_1XlUUlT"
      ],
      "provenance": []
    },
    "kernelspec": {
      "display_name": "base",
      "language": "python",
      "name": "python3"
    },
    "language_info": {
      "codemirror_mode": {
        "name": "ipython",
        "version": 3
      },
      "file_extension": ".py",
      "mimetype": "text/x-python",
      "name": "python",
      "nbconvert_exporter": "python",
      "pygments_lexer": "ipython3",
      "version": "3.11.7"
    }
  },
  "nbformat": 4,
  "nbformat_minor": 0
}
